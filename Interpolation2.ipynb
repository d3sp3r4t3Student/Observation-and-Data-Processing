{
 "cells": [
  {
   "cell_type": "code",
   "execution_count": 7,
   "id": "97e32992-8963-4827-98e8-cff005a0e3b7",
   "metadata": {},
   "outputs": [],
   "source": [
    "import matplotlib.pyplot as plt\n",
    "import numpy as np\n",
    "import sympy as sp\n",
    "from print_array import *\n",
    "import time\n",
    "import scipy.optimize as opt"
   ]
  },
  {
   "cell_type": "code",
   "execution_count": 8,
   "id": "b76fa159-d2ba-4bb9-964a-6e0197f2daec",
   "metadata": {},
   "outputs": [
    {
     "name": "stdout",
     "output_type": "stream",
     "text": [
      "measurement value at [20,30] for a integaration time of 10s: 0.11691012693498708\n"
     ]
    }
   ],
   "source": [
    "\n",
    "class instrument:\n",
    "    xmin=0; xmax=100; ymin=0; ymax=100 #boundaries for search\n",
    "  \n",
    "    def __init__(self,motorspeed,error,starttime):#s/steps,error for 1s integration time\n",
    "        self.motorspeed=motorspeed\n",
    "        self.error=error\n",
    "        self.starttime=starttime\n",
    "        self.t=0\n",
    "        self.pos=np.array([self.xmin+np.random.uniform(0,self.xmax-self.xmin),self.ymin+np.random.uniform(0,self.ymax-self.ymin)])#random position\n",
    "        self.x1=np.random.uniform(1,90)\n",
    "        self.x2=np.random.uniform(1,90)\n",
    "        self.sig1=np.random.uniform(5.0,10.0)\n",
    "        self.sig2=np.random.uniform(5.0,10.0)\n",
    "        self.theta=np.random.uniform(0,2*np.pi)\n",
    "        self.func=lambda x: np.exp(-0.5*((((x[0]-self.x1)*np.cos(self.theta)-(x[1]-self.x2)*np.sin(self.theta))/self.sig1)**2+(((x[0]-self.x1)*np.sin(self.theta)+(x[1]-self.x2)*np.cos(self.theta))/self.sig2)**2))\n",
    " \n",
    "    def scan(self,x,st):#position, scan time\n",
    "        self.t+=(abs(x[0]-self.pos[0])+abs(x[1]-self.pos[1]))*self.motorspeed+st+self.starttime\n",
    "        self.pos=np.array(x)\n",
    "        return self.func(x)+np.random.normal(0,self.error,(1))[0]*(0.1+0.9*st**-.5)\n",
    "    \n",
    "\n",
    "MIM_LP_DOAS=instrument(50,0.01,0.5)\n",
    "print('measurement value at [20,30] for a integaration time of 10s:',MIM_LP_DOAS.scan([20,30],10))\n"
   ]
  },
  {
   "cell_type": "code",
   "execution_count": 9,
   "id": "98410af9-0f0b-4d9f-8c32-b56ce4de7560",
   "metadata": {},
   "outputs": [],
   "source": [
    "def calc_std(n, st):\n",
    "    instr_std = instrument(1,.05,0)\n",
    "    measure = np.zeros(n)\n",
    "    for i in range(n):\n",
    "        measure[i] = instr_std.scan([20,30], st)\n",
    "    std = measure.std()\n",
    "    return std"
   ]
  },
  {
   "cell_type": "markdown",
   "id": "a46ae7e8-0d1c-4dec-970e-d5c62b226bd5",
   "metadata": {},
   "source": [
    "**Better Search Algorithm**"
   ]
  },
  {
   "cell_type": "code",
   "execution_count": 10,
   "id": "aab02caa-a193-4d59-a1b3-246269ccc74f",
   "metadata": {},
   "outputs": [],
   "source": [
    "scantimes = np.arange(1,100,1)\n",
    "stds = np.zeros(len(scantimes))\n",
    "for i in scantimes:\n",
    "    stds[i-1] = calc_std(100,i)\n",
    "    \n",
    "#fit the following function f(t) = c1 + c2/sqrt(t)\n",
    "\n",
    "fit_func = lambda t, c1, c2 : c1 + c2 / np.sqrt(t)\n",
    "opt_param, opt_cov = opt.curve_fit(fit_func, scantimes, stds)"
   ]
  },
  {
   "cell_type": "code",
   "execution_count": 76,
   "id": "60ba01ee-062b-4d9a-a91a-cade2d9df7ee",
   "metadata": {},
   "outputs": [],
   "source": [
    "def construct_coords(center, step):\n",
    "    \n",
    "    #working our way towards the maximum in two circles with 1*step and 2*step distance to the center:\n",
    "    # inner circle: 8 points\n",
    "    # outer circle: 16 points\n",
    "    \n",
    "\n",
    "        \n",
    "    compare_coord = np.array(((0,1),\\\n",
    "                              (np.sqrt(0.5),np.sqrt(0.5)),\\\n",
    "                              (1,0),\\\n",
    "                              (np.sqrt(0.5),-np.sqrt(0.5)),\\\n",
    "                              (0,-1),\\\n",
    "                              (-np.sqrt(0.5),-np.sqrt(0.5)),\\\n",
    "                              (-1,0),\\\n",
    "                              (-np.sqrt(0.5),np.sqrt(0.5)),\\\n",
    "                              (0,2),\\\n",
    "                              (-1*np.sqrt(4/1.25)/2,2*np.sqrt(4/1.25)/2),\\\n",
    "                              (-2*np.sqrt(0.5),2*np.sqrt(0.5)),\\\n",
    "                              (-2*np.sqrt(4/1.25)/2,1*np.sqrt(4/1.25)/2),\\\n",
    "                              (-2,0),\\\n",
    "                              (-2*np.sqrt(4/1.25)/2,-1*np.sqrt(4/1.25)/2),\\\n",
    "                              (-2*np.sqrt(0.5),-2*np.sqrt(0.5)),\\\n",
    "                              (-1*np.sqrt(4/1.25)/2,-2*np.sqrt(4/1.25)/2),\\\n",
    "                              (0,-2),\\\n",
    "                              (1*np.sqrt(4/1.25)/2,-2*np.sqrt(4/1.25)/2),\\\n",
    "                              (2*np.sqrt(0.5),-2*np.sqrt(0.5)),\\\n",
    "                              (2*np.sqrt(4/1.25)/2,-1*np.sqrt(4/1.25)/2),\\\n",
    "                              (2,0),\\\n",
    "                              (2*np.sqrt(4/1.25)/2,1*np.sqrt(4/1.25)/2),\\\n",
    "                              (2*np.sqrt(0.5),2*np.sqrt(0.5)),\\\n",
    "                              (1*np.sqrt(4/1.25)/2,2*np.sqrt(4/1.25)/2)))\n",
    "\n",
    "    \n",
    "    coords = np.full((len(compare_coord)+1,2), center)\n",
    "    \n",
    "    coords[1:,:] = coords[1:,:] + compare_coord[:,:]*step\n",
    "            \n",
    "    return coords"
   ]
  },
  {
   "cell_type": "code",
   "execution_count": 112,
   "id": "e0621814-b14d-4c4d-98de-0dde86141229",
   "metadata": {},
   "outputs": [],
   "source": [
    "def grid_search(scan_grid, xmin, xmax, nsteps):\n",
    "    \n",
    "    max_box = 0.0\n",
    "    max_box_i = 0\n",
    "    step = int((xmax-xmin)/nsteps)\n",
    "    \n",
    "    for i in np.arange(xmin, xmax, step):\n",
    "        i = int(i) + 1\n",
    "        for j in np.arange(xmin, xmax, step):\n",
    "            j = int(j) + 1\n",
    "            if(np.mean(scan_grid[xmax - i - step:xmax - i, xmax - j - step:xmax - j]) > max_box): \n",
    "                max_box = np.mean(scan_grid[xmax - i - step:xmax - i, xmax - j - step:xmax - j])\n",
    "                max_box_i = [xmax - i - int(step/2), xmax - j - int(step/2)]\n",
    "    \n",
    "    return max_box_i"
   ]
  },
  {
   "cell_type": "code",
   "execution_count": 121,
   "id": "8f3b9b38-dd23-46ba-bd78-9d9b92fa161b",
   "metadata": {},
   "outputs": [
    {
     "name": "stdout",
     "output_type": "stream",
     "text": [
      "Maximum of 1.0297715548592772 found at: (90, 70)\n"
     ]
    },
    {
     "data": {
      "image/png": "[encoded data removed]",
      "text/plain": [
       "<Figure size 576x576 with 1 Axes>"
      ]
     },
     "metadata": {
      "needs_background": "light"
     },
     "output_type": "display_data"
    }
   ],
   "source": [
    "instr_search = instrument(1,.05,0)\n",
    "\n",
    "xmax = instr_search.xmax\n",
    "ymax = instr_search.ymax\n",
    "xmin = instr_search.xmin\n",
    "ymin = instr_search.ymin\n",
    "\n",
    "acc = 1.0\n",
    "scantime = 10\n",
    "\n",
    "n_x = (xmax-xmin)/acc\n",
    "n_y = (ymax-ymin)/acc\n",
    "\n",
    "scan_grid = np.zeros((int(n_x),int(n_y)))\n",
    "\n",
    "for i in np.arange(n_x): \n",
    "    for j in np.arange(n_y):\n",
    "        scan_grid[int(i),int(j)] = instr_search.scan([int(xmin+acc*i),int(ymin+acc*j)], scantime)\n",
    "        \n",
    "plt.figure(figsize = (8,8))\n",
    "plt.imshow(scan_grid)\n",
    "\n",
    "\n",
    "step_initial = xmax / 100\n",
    "step = step_initial\n",
    "center_initial = grid_search(scan_grid, xmin, xmax, 5)\n",
    "\n",
    "plt.scatter(center_initial[0],center_initial[1], color = 'orange', marker = 'x', linewidth = 50)\n",
    "\n",
    "center = center_initial\n",
    "scantime = 500\n",
    "\n",
    "maximum = 0.0\n",
    "new_maximum = 0.0\n",
    "coord_max = center\n",
    "\n",
    "search = True\n",
    "\n",
    "while(search == True):\n",
    "    \n",
    "    coords = construct_coords(center, step)\n",
    "    \n",
    "    for i in coords:\n",
    "        \n",
    "        plt.scatter(i[0],i[1], color = 'k', alpha = 0.5)\n",
    "        if(scan_grid[int(i[0]),int(i[1])] - new_maximum >= 3*fit_func(scantime, opt_param[0], opt_param[1])):\n",
    "            new_maximum = scan_grid[int(i[0]),int(i[1])]\n",
    "            coord_max = int(i[0]),int(i[1])\n",
    "    \n",
    "    #plt.scatter(coord_max[0],coord_max[1], color = 'k')\n",
    "    \n",
    "    if(new_maximum - maximum < 3*fit_func(scantime, opt_param[0], opt_param[1])): \n",
    "        search = False\n",
    "        \n",
    "    maximum = new_maximum\n",
    "    center = coord_max\n",
    "\n",
    "print('Maximum of ' + str(maximum) + ' found at: ' + str(coord_max))\n",
    "plt.show()"
   ]
  },
  {
   "cell_type": "markdown",
   "id": "b57e0e23-7884-4c52-9ced-2be7630f4c4d",
   "metadata": {},
   "source": [
    "**Additional Stuff**"
   ]
  },
  {
   "cell_type": "code",
   "execution_count": null,
   "id": "7e05dc72-1029-4195-97e0-ee078a3db7ed",
   "metadata": {},
   "outputs": [],
   "source": [
    "scantimes = np.arange(1,100,1)\n",
    "stds = np.zeros(len(scantimes))\n",
    "for i in scantimes:\n",
    "    stds[i-1] = calc_std(100,i)\n",
    "    \n",
    "#fit the following function f(t) = c1 + c2/sqrt(t)\n",
    "\n",
    "fit_func = lambda t, c1, c2 : c1 + c2 / np.sqrt(t)\n",
    "opt_param, opt_cov = opt.curve_fit(fit_func, scantimes, stds)\n",
    "\n",
    "plt.figure(figsize=(8,8))\n",
    "plt.plot(scantimes, stds, label = 'standard deviation')\n",
    "plt.plot(scantimes, fit_func(scantimes, opt_param[0], opt_param[1]), label = 'fitted curve') \n",
    "plt.ylabel('standard deviation')\n",
    "plt.xlabel('scantime in secs')\n",
    "plt.show()\n",
    "\n",
    "print('C1 = ' + str(opt_param[0]) + '\\tC2 = ' + str(opt_param[1]))"
   ]
  },
  {
   "cell_type": "code",
   "execution_count": null,
   "id": "7d958b48-38ed-4df8-a482-8794a049412f",
   "metadata": {},
   "outputs": [],
   "source": [
    "instr = instrument(50,0.01,0.5)\n",
    "\n",
    "acc = 1.0\n",
    "scantime = np.arange(0.01,1,99) \n",
    "stepsize = np.arange(1,10,1)\n",
    "\n",
    "show = True\n",
    "\n",
    "nx = (instr.xmax-instr.xmin)/acc\n",
    "ny = (instr.ymax-instr.ymin)/acc\n",
    "\n",
    "func_grid = np.zeros((int(nx),int(ny)))\n",
    "\n",
    "for i in np.arange(nx): \n",
    "    for j in np.arange(ny):\n",
    "        func_grid[int(i),int(j)] = instr.scan([int(instr.xmin+acc*i),int(instr.ymin+acc*j)], scantime)\n",
    "\n",
    "fig, axs = plt.subplots(1,1,figsize=(12,12))\n",
    " \n",
    "searchtime = 100\n",
    "    \n",
    "for k in scantime:\n",
    "    for l in stepsize:\n",
    "        t0 = time.time()\n",
    "\n",
    "        maxxpos = int(instr.xmin);\n",
    "        maxypos = int(instr.ymin);\n",
    "\n",
    "        err = 0.05\n",
    "\n",
    "        for i in np.arange(instr.xmin,instr.xmax,acc):\n",
    "            for j in np.arange(instr.ymin,instr.ymax,acc):\n",
    "                if (func_grid[int(i),int(j)]>func_grid[maxxpos,maxypos]):\n",
    "                    maxxpos=int(i);\n",
    "                    maxypos=int(j);\n",
    "                    maxval = func_grid[maxxpos,maxypos];\n",
    "                    if show:\n",
    "                        plt.scatter(maxxpos,maxypos,color='black')\n",
    "\n",
    "        t1 = time.time()\n",
    "        \n",
    "        if(t1-t0 < searchtime): \n",
    "            searchtime = t1-t0\n",
    "            best_scantime = k\n",
    "            best_stepsize = l\n",
    "\n",
    "print('time needed for search: ' + str(searchtime))\n",
    "print('maximum of' + str(maxval) + 'found at' + 'maxxpos\\t' + 'maxypos')\n",
    "print('best scantime: ' + str(scantime) + '\\tbest stepsize: ' + str(best_stepsize))\n",
    "\n",
    "if show:\n",
    "    plt.imshow(func_grid.T[::-1,:], interpolation = 'nearest',cmap='jet_r', extent=[instr.xmin,instr.xmax,instr.ymin,instr.ymax])\n",
    "    plt.show()\n"
   ]
  },
  {
   "cell_type": "code",
   "execution_count": null,
   "id": "f40b1dfc-286d-42ae-a33f-33f3f3db1642",
   "metadata": {},
   "outputs": [],
   "source": []
  }
 ],
 "metadata": {
  "kernelspec": {
   "display_name": "Python 3",
   "language": "python",
   "name": "python3"
  },
  "language_info": {
   "codemirror_mode": {
    "name": "ipython",
    "version": 3
   },
   "file_extension": ".py",
   "mimetype": "text/x-python",
   "name": "python",
   "nbconvert_exporter": "python",
   "pygments_lexer": "ipython3",
   "version": "3.8.8"
  }
 },
 "nbformat": 4,
 "nbformat_minor": 5
}
